{
 "cells": [
  {
   "cell_type": "markdown",
   "metadata": {},
   "source": [
    "# Optimisation for Data Science: HomeWork\n",
    "# Student ID:  1178077\n",
    "\n",
    "\n"
   ]
  },
  {
   "cell_type": "markdown",
   "metadata": {},
   "source": [
    "The dataset consist of 14 patient attributes such as gender, age, smoking habits,heartrate etc with a final diagnosis 'target condition' of the presence of heart disease or otherwise.\n",
    "\n",
    "The aim of the use of the dataset is show how the 14 listed attributes can estimate the 10-year risk of developing coronary heart disease (TenyearCHD). The response variable 'TenYearCHD' column contains binary value of '1' which indicates the presence of heart disease in the patient and '0', if other-wise\n",
    "\n",
    "The Logistic regression model can be used in this case of the data to essentially try to find the best weights to predict the response variable."
   ]
  },
  {
   "cell_type": "markdown",
   "metadata": {},
   "source": [
    "We will use the Regularised Logistic Regression equation from the lectures..\n",
    "\n",
    "$$  \\min    h_w \\left(x\\right)= g(w^ \\top x^{i}) =\\sum \\limits_{i =1}^{m}log( 1 + exp(-y^{i}w^ \\top x^{i})) + \\frac {\\lambda} {2} \\|w\\|^2 $$\n",
    "\n",
    "and the gradient formular: \n",
    "\n",
    "$$ \\bigtriangledown h_w \\left(x\\right) = - \\sum \\limits_{i =1}^{m} y^{i}x^{i}( 1 - g(y^{i}w^ \\top x^{i}) + \\lambda w $$\n",
    "\n",
    "\n",
    "with GD weight update formular;\n",
    "\n",
    "$$ w_j = w_j - \\alpha \\frac {\\delta}{\\delta w_j}h_w \\left(x\\right)  $$\n",
    "\n",
    "\n",
    "with SGD weight update formular;\n",
    "\n",
    "$$ w_j = w_j - \\alpha \\frac {\\delta}{\\delta w_j}h_w (\\tilde{x})  $$\n",
    "\n",
    "\n",
    "with SVRG weight update formular;\n",
    "\n",
    "$$ w_j = w_j - \\alpha_j \\left[ \\triangledown h_{ij}( w_j) - \\triangledown h_{ij}( \\tilde{w}) + \\frac {1}{m} \\sum \\triangledown h_{i}( \\tilde{w}) \\right]$$\n",
    "\n",
    "\n"
   ]
  },
  {
   "cell_type": "code",
   "execution_count": 1,
   "metadata": {},
   "outputs": [],
   "source": [
    "#initialising python libraries\n",
    "\n",
    "import numpy as np\n",
    "import pandas as pd\n",
    "from IPython.core.interactiveshell import InteractiveShell\n",
    "InteractiveShell.ast_node_interactivity = \"all\"\n",
    "import time\n",
    "from sklearn import preprocessing\n",
    "from sklearn.model_selection import train_test_split\n",
    "from sklearn.metrics import accuracy_score\n",
    "import random\n",
    "from matplotlib import pyplot as plt"
   ]
  },
  {
   "cell_type": "code",
   "execution_count": 2,
   "metadata": {},
   "outputs": [],
   "source": [
    "#Importing and pre-processing data\n",
    "\n",
    "raw_data = pd.read_csv(\"/Users/rowenabernard/Downloads/framingham_heart_disease.csv\")\n",
    "data_ = raw_data.dropna(axis=0)\n",
    "data_ = data_.drop(['education'], axis = 1)\n",
    "y = data_['TenYearCHD']\n",
    "x = data_.drop(['TenYearCHD'], axis = 1)\n",
    "x = preprocessing.StandardScaler().fit(x).transform(x)  #scaling (normalising) the values as some attributes have very high values\n",
    "x = pd.DataFrame(x)\n",
    "train_x, test_x, train_y, test_y = train_test_split(x, y, test_size = 0.3, random_state = 1) #splitting into a test and training sets"
   ]
  },
  {
   "cell_type": "code",
   "execution_count": 3,
   "metadata": {},
   "outputs": [
    {
     "data": {
      "text/html": [
       "<div>\n",
       "<style scoped>\n",
       "    .dataframe tbody tr th:only-of-type {\n",
       "        vertical-align: middle;\n",
       "    }\n",
       "\n",
       "    .dataframe tbody tr th {\n",
       "        vertical-align: top;\n",
       "    }\n",
       "\n",
       "    .dataframe thead th {\n",
       "        text-align: right;\n",
       "    }\n",
       "</style>\n",
       "<table border=\"1\" class=\"dataframe\">\n",
       "  <thead>\n",
       "    <tr style=\"text-align: right;\">\n",
       "      <th></th>\n",
       "      <th>male</th>\n",
       "      <th>age</th>\n",
       "      <th>education</th>\n",
       "      <th>currentSmoker</th>\n",
       "      <th>cigsPerDay</th>\n",
       "      <th>BPMeds</th>\n",
       "      <th>prevalentStroke</th>\n",
       "      <th>prevalentHyp</th>\n",
       "      <th>diabetes</th>\n",
       "      <th>totChol</th>\n",
       "      <th>sysBP</th>\n",
       "      <th>diaBP</th>\n",
       "      <th>BMI</th>\n",
       "      <th>heartRate</th>\n",
       "      <th>glucose</th>\n",
       "      <th>TenYearCHD</th>\n",
       "    </tr>\n",
       "  </thead>\n",
       "  <tbody>\n",
       "    <tr>\n",
       "      <th>0</th>\n",
       "      <td>1</td>\n",
       "      <td>39</td>\n",
       "      <td>4.0</td>\n",
       "      <td>0</td>\n",
       "      <td>0.0</td>\n",
       "      <td>0.0</td>\n",
       "      <td>0</td>\n",
       "      <td>0</td>\n",
       "      <td>0</td>\n",
       "      <td>195.0</td>\n",
       "      <td>106.0</td>\n",
       "      <td>70.0</td>\n",
       "      <td>26.97</td>\n",
       "      <td>80.0</td>\n",
       "      <td>77.0</td>\n",
       "      <td>0</td>\n",
       "    </tr>\n",
       "    <tr>\n",
       "      <th>1</th>\n",
       "      <td>0</td>\n",
       "      <td>46</td>\n",
       "      <td>2.0</td>\n",
       "      <td>0</td>\n",
       "      <td>0.0</td>\n",
       "      <td>0.0</td>\n",
       "      <td>0</td>\n",
       "      <td>0</td>\n",
       "      <td>0</td>\n",
       "      <td>250.0</td>\n",
       "      <td>121.0</td>\n",
       "      <td>81.0</td>\n",
       "      <td>28.73</td>\n",
       "      <td>95.0</td>\n",
       "      <td>76.0</td>\n",
       "      <td>0</td>\n",
       "    </tr>\n",
       "    <tr>\n",
       "      <th>2</th>\n",
       "      <td>1</td>\n",
       "      <td>48</td>\n",
       "      <td>1.0</td>\n",
       "      <td>1</td>\n",
       "      <td>20.0</td>\n",
       "      <td>0.0</td>\n",
       "      <td>0</td>\n",
       "      <td>0</td>\n",
       "      <td>0</td>\n",
       "      <td>245.0</td>\n",
       "      <td>127.5</td>\n",
       "      <td>80.0</td>\n",
       "      <td>25.34</td>\n",
       "      <td>75.0</td>\n",
       "      <td>70.0</td>\n",
       "      <td>0</td>\n",
       "    </tr>\n",
       "    <tr>\n",
       "      <th>3</th>\n",
       "      <td>0</td>\n",
       "      <td>61</td>\n",
       "      <td>3.0</td>\n",
       "      <td>1</td>\n",
       "      <td>30.0</td>\n",
       "      <td>0.0</td>\n",
       "      <td>0</td>\n",
       "      <td>1</td>\n",
       "      <td>0</td>\n",
       "      <td>225.0</td>\n",
       "      <td>150.0</td>\n",
       "      <td>95.0</td>\n",
       "      <td>28.58</td>\n",
       "      <td>65.0</td>\n",
       "      <td>103.0</td>\n",
       "      <td>1</td>\n",
       "    </tr>\n",
       "    <tr>\n",
       "      <th>4</th>\n",
       "      <td>0</td>\n",
       "      <td>46</td>\n",
       "      <td>3.0</td>\n",
       "      <td>1</td>\n",
       "      <td>23.0</td>\n",
       "      <td>0.0</td>\n",
       "      <td>0</td>\n",
       "      <td>0</td>\n",
       "      <td>0</td>\n",
       "      <td>285.0</td>\n",
       "      <td>130.0</td>\n",
       "      <td>84.0</td>\n",
       "      <td>23.10</td>\n",
       "      <td>85.0</td>\n",
       "      <td>85.0</td>\n",
       "      <td>0</td>\n",
       "    </tr>\n",
       "  </tbody>\n",
       "</table>\n",
       "</div>"
      ],
      "text/plain": [
       "   male  age  education  currentSmoker  cigsPerDay  BPMeds  prevalentStroke  \\\n",
       "0     1   39        4.0              0         0.0     0.0                0   \n",
       "1     0   46        2.0              0         0.0     0.0                0   \n",
       "2     1   48        1.0              1        20.0     0.0                0   \n",
       "3     0   61        3.0              1        30.0     0.0                0   \n",
       "4     0   46        3.0              1        23.0     0.0                0   \n",
       "\n",
       "   prevalentHyp  diabetes  totChol  sysBP  diaBP    BMI  heartRate  glucose  \\\n",
       "0             0         0    195.0  106.0   70.0  26.97       80.0     77.0   \n",
       "1             0         0    250.0  121.0   81.0  28.73       95.0     76.0   \n",
       "2             0         0    245.0  127.5   80.0  25.34       75.0     70.0   \n",
       "3             1         0    225.0  150.0   95.0  28.58       65.0    103.0   \n",
       "4             0         0    285.0  130.0   84.0  23.10       85.0     85.0   \n",
       "\n",
       "   TenYearCHD  \n",
       "0           0  \n",
       "1           0  \n",
       "2           0  \n",
       "3           1  \n",
       "4           0  "
      ]
     },
     "execution_count": 3,
     "metadata": {},
     "output_type": "execute_result"
    }
   ],
   "source": [
    "#Data Sample\n",
    "raw_data.head()"
   ]
  },
  {
   "cell_type": "code",
   "execution_count": 4,
   "metadata": {},
   "outputs": [],
   "source": [
    "def sigmoid(x, w):\n",
    "    \"\"\" \n",
    "    This returns the sigmoid value of the features 'x' and weights 'w'\n",
    "    \"\"\"\n",
    "    z = np.dot(x, w)\n",
    "    return 1 / (1 + np.exp(-z))\n",
    "\n",
    "def cost_func(x, y, w, lam):\n",
    "    \"\"\"\n",
    "    cost function for the logistic regression problem\n",
    "    \"\"\"\n",
    "    a = y * np.dot(x, w)\n",
    "    reg_term = (lam/2)*  np.dot(w,w)\n",
    "    #b = sigmoid(np.dot(y, a))\n",
    "    #b = (lam/2) * np.square(w)\n",
    "    return np.sum(np.log(1 + np.exp(a))) + reg_term\n",
    "\n",
    "\n",
    "def grad_(x,y,w,lam):\n",
    "    \"\"\"\n",
    "    returns the gradient given the training sets\n",
    "    x = features\n",
    "    y = target variable\n",
    "    w = weights\n",
    "    lam = lamda value for regularisation term\n",
    "    \n",
    "    \"\"\"\n",
    "    a = np.dot(x.T, y)\n",
    "    b= 1 - sigmoid(a , w.T)\n",
    "    reg_term = (lam) * w\n",
    "    d = np.dot(a, b)\n",
    "    grad = - d  + reg_term\n",
    "    return grad\n",
    "\n",
    "\n",
    "def update_weight(w, learning_rate, gradient):\n",
    "    \"\"\"\n",
    "    updates weights at each gradient descent iteration\n",
    "    w = weight at iteration i\n",
    "    learning_rate\n",
    "    gradient = gradient calculated at iteration i\n",
    "    \"\"\"\n",
    "    return w - learning_rate * gradient\n",
    "\n",
    "\n",
    "def batch_(x, y, batch_size):\n",
    "    \"\"\"\n",
    "    returns random set or sets(in case of mini batches)\n",
    "    \"\"\"\n",
    "    if batch_size == 1:\n",
    "        batch = random.randint(sorted(x.index)[0], sorted(x.index)[1])\n",
    "    else:\n",
    "        batch = random.sample(range(sorted(x.index)[0],sorted(x.index)[-1]) , batch_size)\n",
    "        \n",
    "    yield(x.loc[batch], y.loc[batch])\n"
   ]
  },
  {
   "cell_type": "markdown",
   "metadata": {},
   "source": [
    "# Gradient Descent"
   ]
  },
  {
   "cell_type": "code",
   "execution_count": 14,
   "metadata": {},
   "outputs": [
    {
     "name": "stdout",
     "output_type": "stream",
     "text": [
      "Gradient Descent Accuracy 61.08\n",
      "GD_CPU time 4.2751171588897705\n"
     ]
    }
   ],
   "source": [
    "\n",
    "#Gradient Descent\n",
    "\n",
    "start_time = time.time()  #intitate cpu time \n",
    "#intialising the various parameters \n",
    "num_iter = 10000           #number of iterations\n",
    "m, n = train_x.shape  \n",
    "w = np.zeros(n)            #initial weights \n",
    "lam = 0.1                  #lambda value for regularisation\n",
    "alpha =0.01                # Learning rate for the gradient descent $$ \\alpha $$ \n",
    "\n",
    "\n",
    "for i in range(num_iter):\n",
    "    grad = grad_(train_x, train_y, w, lam)\n",
    "    w = update_weight(w, alpha, grad)\n",
    "\n",
    "end_time = time.time()                         #end of iteration \n",
    "GD_cpu_time = end_time - start_time            #calculate total cpu time take\n",
    "\n",
    "\n",
    "\n",
    "predicted = sigmoid(test_x, w)    #Using learned weights to predict previously unseen test_data\n",
    "\n",
    "y_pred = [1 if x > 0.5 else 0 for x in predicted] #converting to binary values\n",
    "\n",
    "GD_accuracy = round(accuracy_score(test_y, y_pred)*100, 2) #Computing accuracy score for predictions using learned weights\n",
    "\n",
    "print('Gradient Descent Accuracy', GD_accuracy)\n",
    "print('GD_CPU time', GD_cpu_time)\n",
    "\n"
   ]
  },
  {
   "cell_type": "markdown",
   "metadata": {},
   "source": [
    "# Stochastic Gradient Descent"
   ]
  },
  {
   "cell_type": "code",
   "execution_count": 6,
   "metadata": {},
   "outputs": [
    {
     "name": "stdout",
     "output_type": "stream",
     "text": [
      "Gradient Descent Accuracy 85.87\n",
      "\n",
      " CPU time 16.856958866119385\n"
     ]
    }
   ],
   "source": [
    "\n",
    "#Stochastic Gradient Descent (SGD)\n",
    "\n",
    "SGD_start_time = time.time()  #intitate cpu time \n",
    "\n",
    "#intialising the various parameters \n",
    "num_iter = 10000           #number of iterations\n",
    "m, n = train_x.shape  \n",
    "SGD_w  = np.zeros(n)        #initial weights \n",
    "lam = 0.1                  #lambda value for regularisation\n",
    "alpha =0.01                # Learning rate for the gradient descent $$ \\alpha $$ \n",
    "batch_size = 1             #batchsize \n",
    "\n",
    "\n",
    "for i in range(num_iter):\n",
    "    for (x_batch, y_batch) in batch_(train_x, train_y, batch_size): \n",
    "            grad = grad_(x_batch, y_batch, SGD_w , lam)\n",
    "            SGD_w = update_weight(SGD_w , alpha, grad)\n",
    "\n",
    "SGD_end_time = time.time()                      #end of iteration \n",
    "SGD_cpu_time = SGD_end_time - SGD_start_time    #calculate total cpu time take\n",
    "\n",
    "\n",
    "SGD_predicted = sigmoid(test_x, SGD_w )    #Using learned weights to predict previously unseen test_data\n",
    "\n",
    "SGD_y_pred = [1 if x > 0.5 else 0 for x in SGD_predicted] #converting to binary values\n",
    "\n",
    "SGD_accuracy = round(accuracy_score(test_y, SGD_y_pred)*100, 2) #Computing accuracy score for predictions using learned weights\n",
    "\n",
    "print('Gradient Descent Accuracy', SGD_accuracy)\n",
    "print('\\n CPU time', SGD_cpu_time)\n"
   ]
  },
  {
   "cell_type": "raw",
   "metadata": {},
   "source": []
  },
  {
   "cell_type": "markdown",
   "metadata": {},
   "source": [
    "# SVRG "
   ]
  },
  {
   "cell_type": "markdown",
   "metadata": {},
   "source": [
    "weight update \n",
    "$$ w_j = w_j - \\alpha_j \\left[ \\triangledown h_{ij}( w_j) - \\triangledown h_{ij}( \\tilde{w}) + \\frac {1}{m} \\sum \\triangledown h_{i}( \\tilde{w}) \\right]$$\n"
   ]
  },
  {
   "cell_type": "code",
   "execution_count": 54,
   "metadata": {},
   "outputs": [
    {
     "name": "stderr",
     "output_type": "stream",
     "text": [
      "/Users/rowenabernard/anaconda3/lib/python3.7/site-packages/ipykernel_launcher.py:6: RuntimeWarning: overflow encountered in exp\n",
      "  \n"
     ]
    },
    {
     "name": "stdout",
     "output_type": "stream",
     "text": [
      "SVRG Accuracy 39.02\n",
      "\n",
      " CPU time 179.6473879814148\n"
     ]
    }
   ],
   "source": [
    "#intialising the various parameters\n",
    "\n",
    "SVRG_start_time = time.time()  #intitate cpu time \n",
    "num_iter = 10000           #number of iterations\n",
    "m, n = train_x.shape  \n",
    "SVRG_w  = np.zeros(n)      #initial weights \n",
    "lam = 0.1                  #lambda value for regularisation\n",
    "alpha =0.01                # Learning rate for the gradient descent $$ \\alpha $$ \n",
    "batch_size = 1             #batchsize \n",
    "\n",
    "w_iter = []\n",
    "\n",
    "w_iter_last = SVRG_w \n",
    "\n",
    "\n",
    "#weight update\n",
    "for i in range(num_iter):\n",
    "    w_hat = w_iter_last\n",
    "    \n",
    "    w = grad_(train_x, train_y, w_hat, lam)\n",
    "\n",
    "    for k in range(len(w)):\n",
    "    \n",
    "        f_1 = grad_(train_x, train_y, w[k], lam  )\n",
    "        \n",
    "        f_2 = grad_(train_x, train_y, w_hat[k], lam  )\n",
    "        \n",
    "        f_3 = (1/m) * np.sum( grad_(train_x, train_y, w_hat, lam  ))\n",
    "        \n",
    "        w = w - alpha * (f_1 - f_2 + f_3)\n",
    "        \n",
    "    w_iter_last = w \n",
    "    \n",
    "    \n",
    "SVRG_end_time = time.time()                      #end of iteration \n",
    "SVRG_cpu_time = SVRG_end_time - SVRG_start_time    #calculate total cpu time take\n",
    "    \n",
    "SVRG_predicted = sigmoid(test_x, w_iter_last )    #Using learned weights to predict previously unseen test_data\n",
    "\n",
    "SVRG_y_pred = [1 if x > 0.5 else 0 for x in SVRG_predicted] #converting to binary values\n",
    "\n",
    "SVRG_accuracy = round(accuracy_score(test_y, SVRG_y_pred)*100, 2) #Computing accuracy score for predictions using learned weights\n",
    "\n",
    "print('SVRG Accuracy', SVRG_accuracy)\n",
    "\n",
    "print('\\n CPU time', SVRG_cpu_time)\n",
    "\n"
   ]
  },
  {
   "cell_type": "markdown",
   "metadata": {},
   "source": [
    "# Plot of Accuracy vs CPU_time"
   ]
  },
  {
   "cell_type": "markdown",
   "metadata": {},
   "source": [
    "We can compare CPU time and Accuracy for the logistic problem using both Gradient and a Stochastic gradient descent methods to minimise the objective function"
   ]
  },
  {
   "cell_type": "code",
   "execution_count": 55,
   "metadata": {},
   "outputs": [
    {
     "data": {
      "image/png": "[encoded data removed]",
      "text/plain": [
       "<Figure size 1080x504 with 1 Axes>"
      ]
     },
     "metadata": {
      "needs_background": "light"
     },
     "output_type": "display_data"
    }
   ],
   "source": [
    "#plt.plot( GD_cpu_time, GD_accuracy, 'go-', label='GD');\n",
    "plt.figure(figsize=(15, 7));\n",
    "plt.title('Accuracy vs CPU time');\n",
    "plt.ylabel('Accuracy %');\n",
    "plt.xlabel('CPU time (secs)');\n",
    "\n",
    "plt.xlim( (0, 300) );\n",
    "plt.ylim( (10, 100) );\n",
    "\n",
    "plt.plot( [GD_cpu_time, SGD_cpu_time, SVRG_cpu_time],[GD_accuracy,SGD_accuracy, SVRG_accuracy], 'go',label='SGD');\n",
    "plt.text(x = GD_cpu_time, y= GD_accuracy, s='Gradient \\nDescent \\n {}%'.format(GD_accuracy));\n",
    "plt.text(x = SGD_cpu_time, y= SGD_accuracy, s='Stochastic GD \\n {}%'.format(SGD_accuracy));\n",
    "plt.text(x = SVRG_cpu_time, y= SVRG_accuracy, s='SVRG \\n {}%'.format(SVRG_accuracy));"
   ]
  },
  {
   "cell_type": "code",
   "execution_count": null,
   "metadata": {},
   "outputs": [],
   "source": []
  },
  {
   "cell_type": "code",
   "execution_count": null,
   "metadata": {},
   "outputs": [],
   "source": []
  }
 ],
 "metadata": {
  "kernelspec": {
   "display_name": "Python 3",
   "language": "python",
   "name": "python3"
  },
  "language_info": {
   "codemirror_mode": {
    "name": "ipython",
    "version": 3
   },
   "file_extension": ".py",
   "mimetype": "text/x-python",
   "name": "python",
   "nbconvert_exporter": "python",
   "pygments_lexer": "ipython3",
   "version": "3.7.4"
  }
 },
 "nbformat": 4,
 "nbformat_minor": 4
}
